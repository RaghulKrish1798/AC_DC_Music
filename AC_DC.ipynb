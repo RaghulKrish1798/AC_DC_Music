{
 "cells": [
  {
   "cell_type": "code",
   "execution_count": 1,
   "metadata": {},
   "outputs": [],
   "source": [
    "import pretty_midi\n",
    "import numpy as np\n",
    "import pandas as pd\n",
    "import torch\n",
    "import matplotlib.pyplot as plt\n",
    "from sklearn.preprocessing import MinMaxScaler\n",
    "# from torch import \n",
    "import os\n",
    "import IPython.display as ipd"
   ]
  },
  {
   "cell_type": "code",
   "execution_count": 2,
   "metadata": {},
   "outputs": [
    {
     "name": "stderr",
     "output_type": "stream",
     "text": [
      "c:\\Users\\RaghulKrish\\AppData\\Local\\Programs\\Python\\Python310\\lib\\site-packages\\pretty_midi\\pretty_midi.py:100: RuntimeWarning: Tempo, Key or Time signature change events found on non-zero tracks.  This is not a valid type 0 or type 1 MIDI file.  Tempo, Key or Time Signature may be wrong.\n",
      "  warnings.warn(\n"
     ]
    }
   ],
   "source": [
    "dir = 'C:/Users/RaghulKrish/Desktop/Projects/AC_DC_Music/MIDI_Ext/Back_In_Black.mid'\n",
    "midi_sample = pretty_midi.PrettyMIDI(dir)\n",
    "Fs = 22050\n",
    "# audio_data = midi_sample.synthesize(fs=Fs)\n",
    "# ipd.Audio(audio_data, rate=Fs)"
   ]
  },
  {
   "cell_type": "code",
   "execution_count": 3,
   "metadata": {},
   "outputs": [],
   "source": [
    "# Midi files location\n",
    "midi_files_dir = 'C:/Users/RaghulKrish/Desktop/Projects/AC_DC_Music/MIDI_Ext'\n",
    "\n",
    "# List to extract notes from the midi files\n",
    "notes_ext = []\n",
    "\n",
    "def ext_notes(file_name, midi_dat):\n",
    "    notes = []\n",
    "    for instruments in midi_dat.instruments:\n",
    "        # print(instruments.notes)\n",
    "        for note in instruments.notes:\n",
    "            notes = [file_name, note.start, note.end, note.pitch, note.velocity, instruments.name]\n",
    "    return notes\n",
    "\n",
    "for file_name in os.listdir(midi_files_dir):\n",
    "    # print(file_name)\n",
    "    if file_name.endswith('.mid'):\n",
    "        path = os.path.join(midi_files_dir, file_name)\n",
    "\n",
    "        # Load midi data\n",
    "        midi_data = pretty_midi.PrettyMIDI(path)\n",
    "\n",
    "        # Extract notes from midi data\n",
    "        notes_ext.append(ext_notes(file_name, midi_data))\n",
    "\n",
    "df = pd.DataFrame(notes_ext, columns=['File_Name', 'Start', 'End', 'Pitch', 'Velocity', 'Instrument'])\n"
   ]
  },
  {
   "cell_type": "code",
   "execution_count": 4,
   "metadata": {},
   "outputs": [
    {
     "name": "stdout",
     "output_type": "stream",
     "text": [
      "['Back_In_Black.mid', 189.5568445, 189.76781483333335, 75, 118, 'voc -bu']\n",
      "In the format -- [\"file_name.mid\", start, end, pitch, velocity]\n"
     ]
    }
   ],
   "source": [
    "print(notes_ext[0])\n",
    "print('In the format -- [\"file_name.mid\", start, end, pitch, velocity]')"
   ]
  },
  {
   "cell_type": "code",
   "execution_count": 5,
   "metadata": {},
   "outputs": [
    {
     "data": {
      "text/html": [
       "<div>\n",
       "<style scoped>\n",
       "    .dataframe tbody tr th:only-of-type {\n",
       "        vertical-align: middle;\n",
       "    }\n",
       "\n",
       "    .dataframe tbody tr th {\n",
       "        vertical-align: top;\n",
       "    }\n",
       "\n",
       "    .dataframe thead th {\n",
       "        text-align: right;\n",
       "    }\n",
       "</style>\n",
       "<table border=\"1\" class=\"dataframe\">\n",
       "  <thead>\n",
       "    <tr style=\"text-align: right;\">\n",
       "      <th></th>\n",
       "      <th>File_Name</th>\n",
       "      <th>Start</th>\n",
       "      <th>End</th>\n",
       "      <th>Pitch</th>\n",
       "      <th>Velocity</th>\n",
       "      <th>Instrument</th>\n",
       "    </tr>\n",
       "  </thead>\n",
       "  <tbody>\n",
       "    <tr>\n",
       "      <th>0</th>\n",
       "      <td>Back_In_Black.mid</td>\n",
       "      <td>189.556845</td>\n",
       "      <td>189.767815</td>\n",
       "      <td>75</td>\n",
       "      <td>118</td>\n",
       "      <td>voc -bu</td>\n",
       "    </tr>\n",
       "    <tr>\n",
       "      <th>1</th>\n",
       "      <td>Big_Balls.mid</td>\n",
       "      <td>138.000000</td>\n",
       "      <td>140.000000</td>\n",
       "      <td>52</td>\n",
       "      <td>127</td>\n",
       "      <td>Guitar 2 (Malcolm)</td>\n",
       "    </tr>\n",
       "    <tr>\n",
       "      <th>2</th>\n",
       "      <td>Big_Gun.mid</td>\n",
       "      <td>248.279147</td>\n",
       "      <td>248.499735</td>\n",
       "      <td>57</td>\n",
       "      <td>127</td>\n",
       "      <td>Gtr. 1</td>\n",
       "    </tr>\n",
       "    <tr>\n",
       "      <th>3</th>\n",
       "      <td>Dirty_Deeds_Done_Dirt_Cheap.mid</td>\n",
       "      <td>199.714086</td>\n",
       "      <td>200.142657</td>\n",
       "      <td>49</td>\n",
       "      <td>127</td>\n",
       "      <td>Percussion</td>\n",
       "    </tr>\n",
       "    <tr>\n",
       "      <th>4</th>\n",
       "      <td>For_Those_About_To_Rock.mid</td>\n",
       "      <td>334.721854</td>\n",
       "      <td>335.179869</td>\n",
       "      <td>59</td>\n",
       "      <td>127</td>\n",
       "      <td>Gtr I</td>\n",
       "    </tr>\n",
       "  </tbody>\n",
       "</table>\n",
       "</div>"
      ],
      "text/plain": [
       "                         File_Name       Start         End  Pitch  Velocity  \\\n",
       "0                Back_In_Black.mid  189.556845  189.767815     75       118   \n",
       "1                    Big_Balls.mid  138.000000  140.000000     52       127   \n",
       "2                      Big_Gun.mid  248.279147  248.499735     57       127   \n",
       "3  Dirty_Deeds_Done_Dirt_Cheap.mid  199.714086  200.142657     49       127   \n",
       "4      For_Those_About_To_Rock.mid  334.721854  335.179869     59       127   \n",
       "\n",
       "           Instrument  \n",
       "0             voc -bu  \n",
       "1  Guitar 2 (Malcolm)  \n",
       "2              Gtr. 1  \n",
       "3          Percussion  \n",
       "4               Gtr I  "
      ]
     },
     "execution_count": 5,
     "metadata": {},
     "output_type": "execute_result"
    }
   ],
   "source": [
    "df.head()"
   ]
  },
  {
   "cell_type": "code",
   "execution_count": 6,
   "metadata": {},
   "outputs": [
    {
     "data": {
      "text/html": [
       "<div>\n",
       "<style scoped>\n",
       "    .dataframe tbody tr th:only-of-type {\n",
       "        vertical-align: middle;\n",
       "    }\n",
       "\n",
       "    .dataframe tbody tr th {\n",
       "        vertical-align: top;\n",
       "    }\n",
       "\n",
       "    .dataframe thead th {\n",
       "        text-align: right;\n",
       "    }\n",
       "</style>\n",
       "<table border=\"1\" class=\"dataframe\">\n",
       "  <thead>\n",
       "    <tr style=\"text-align: right;\">\n",
       "      <th></th>\n",
       "      <th>Start</th>\n",
       "      <th>End</th>\n",
       "      <th>Pitch</th>\n",
       "      <th>Velocity</th>\n",
       "    </tr>\n",
       "  </thead>\n",
       "  <tbody>\n",
       "    <tr>\n",
       "      <th>count</th>\n",
       "      <td>43.000000</td>\n",
       "      <td>43.000000</td>\n",
       "      <td>43.000000</td>\n",
       "      <td>43.000000</td>\n",
       "    </tr>\n",
       "    <tr>\n",
       "      <th>mean</th>\n",
       "      <td>227.340013</td>\n",
       "      <td>228.117266</td>\n",
       "      <td>49.744186</td>\n",
       "      <td>71.930233</td>\n",
       "    </tr>\n",
       "    <tr>\n",
       "      <th>std</th>\n",
       "      <td>79.570686</td>\n",
       "      <td>79.741006</td>\n",
       "      <td>14.882225</td>\n",
       "      <td>52.998381</td>\n",
       "    </tr>\n",
       "    <tr>\n",
       "      <th>min</th>\n",
       "      <td>6.838228</td>\n",
       "      <td>9.922784</td>\n",
       "      <td>34.000000</td>\n",
       "      <td>1.000000</td>\n",
       "    </tr>\n",
       "    <tr>\n",
       "      <th>25%</th>\n",
       "      <td>198.217643</td>\n",
       "      <td>198.460617</td>\n",
       "      <td>39.000000</td>\n",
       "      <td>1.000000</td>\n",
       "    </tr>\n",
       "    <tr>\n",
       "      <th>50%</th>\n",
       "      <td>232.499752</td>\n",
       "      <td>232.551223</td>\n",
       "      <td>44.000000</td>\n",
       "      <td>100.000000</td>\n",
       "    </tr>\n",
       "    <tr>\n",
       "      <th>75%</th>\n",
       "      <td>283.369747</td>\n",
       "      <td>284.029095</td>\n",
       "      <td>54.500000</td>\n",
       "      <td>121.500000</td>\n",
       "    </tr>\n",
       "    <tr>\n",
       "      <th>max</th>\n",
       "      <td>354.258905</td>\n",
       "      <td>359.058990</td>\n",
       "      <td>93.000000</td>\n",
       "      <td>127.000000</td>\n",
       "    </tr>\n",
       "  </tbody>\n",
       "</table>\n",
       "</div>"
      ],
      "text/plain": [
       "            Start         End      Pitch    Velocity\n",
       "count   43.000000   43.000000  43.000000   43.000000\n",
       "mean   227.340013  228.117266  49.744186   71.930233\n",
       "std     79.570686   79.741006  14.882225   52.998381\n",
       "min      6.838228    9.922784  34.000000    1.000000\n",
       "25%    198.217643  198.460617  39.000000    1.000000\n",
       "50%    232.499752  232.551223  44.000000  100.000000\n",
       "75%    283.369747  284.029095  54.500000  121.500000\n",
       "max    354.258905  359.058990  93.000000  127.000000"
      ]
     },
     "execution_count": 6,
     "metadata": {},
     "output_type": "execute_result"
    }
   ],
   "source": [
    "df.describe()"
   ]
  },
  {
   "cell_type": "code",
   "execution_count": 7,
   "metadata": {},
   "outputs": [],
   "source": [
    "# df['Instrument']"
   ]
  },
  {
   "cell_type": "code",
   "execution_count": null,
   "metadata": {},
   "outputs": [],
   "source": []
  }
 ],
 "metadata": {
  "kernelspec": {
   "display_name": "Python 3",
   "language": "python",
   "name": "python3"
  },
  "language_info": {
   "codemirror_mode": {
    "name": "ipython",
    "version": 3
   },
   "file_extension": ".py",
   "mimetype": "text/x-python",
   "name": "python",
   "nbconvert_exporter": "python",
   "pygments_lexer": "ipython3",
   "version": "3.10.6"
  }
 },
 "nbformat": 4,
 "nbformat_minor": 2
}
